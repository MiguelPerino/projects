{
  "nbformat": 4,
  "nbformat_minor": 0,
  "metadata": {
    "colab": {
      "provenance": [],
      "collapsed_sections": [
        "juMczQa6SvDa",
        "GavQUSXNF7zN",
        "Svi2qpvsS7gA",
        "BG6NVLeGVzW1",
        "Pc8b0ii8ZpL8"
      ],
      "include_colab_link": true
    },
    "kernelspec": {
      "name": "python3",
      "display_name": "Python 3"
    },
    "language_info": {
      "name": "python"
    }
  },
  "cells": [
    {
      "cell_type": "markdown",
      "metadata": {
        "id": "view-in-github",
        "colab_type": "text"
      },
      "source": [
        "<a href=\"https://colab.research.google.com/github/MiguelPerino/projects/blob/main/TesteDB.ipynb\" target=\"_parent\"><img src=\"https://colab.research.google.com/assets/colab-badge.svg\" alt=\"Open In Colab\"/></a>"
      ]
    },
    {
      "cell_type": "markdown",
      "source": [
        "## Subrotinas para trabalhar com o banco de dados"
      ],
      "metadata": {
        "id": "juMczQa6SvDa"
      }
    },
    {
      "cell_type": "code",
      "execution_count": null,
      "metadata": {
        "id": "H7IplPpZPZDE"
      },
      "outputs": [],
      "source": [
        "import sqlite3\n",
        "import os\n",
        "\n",
        "def criar_banco(nome_banco):\n",
        "\n",
        "  try:\n",
        "\n",
        "  # Cria o banco (se não existir) e fecha a conexão\n",
        "    conn = sqlite3.connect(nome_banco)\n",
        "    conn.close()\n",
        "\n",
        "  # Verifica se o arquivo foi criado\n",
        "    return os.path.exists(nome_banco)\n",
        "\n",
        "  except Exception as e:\n",
        "\n",
        "    conn.close()\n",
        "    print(f\"Erro ao criar banco: {e}\")\n",
        "    return False"
      ]
    },
    {
      "cell_type": "code",
      "source": [
        "import sqlite3\n",
        "\n",
        "def executar_sql(nome_banco, comando_sql):\n",
        "\n",
        "  try:\n",
        "\n",
        "    conn = sqlite3.connect(nome_banco)\n",
        "    cursor = conn.cursor()\n",
        "    cursor.executescript(comando_sql)\n",
        "    # cursor.execute(comando_sql) <- este comando execute roda apenas um comando por vez\n",
        "    conn.commit()\n",
        "    conn.close()\n",
        "    return True\n",
        "\n",
        "  except Exception as e:\n",
        "\n",
        "    print(f\"Erro ao executar SQL: {e}\")\n",
        "    conn.rollback()\n",
        "    conn.close()\n",
        "    return False"
      ],
      "metadata": {
        "id": "NfBKa2HcQEEE"
      },
      "execution_count": null,
      "outputs": []
    },
    {
      "cell_type": "code",
      "source": [
        "import sqlite3\n",
        "import pandas as pd\n",
        "\n",
        "def select_sql(nome_banco, comando_sql):\n",
        "\n",
        "  try:\n",
        "    conn = sqlite3.connect(nome_banco)\n",
        "    df = pd.read_sql_query(comando_sql, conn)\n",
        "    conn.close()\n",
        "    return df\n",
        "\n",
        "  except Exception as e:\n",
        "    conn.close()\n",
        "    print(f\"Erro ao executar SELECT: {e}\")\n",
        "    return pd.DataFrame()"
      ],
      "metadata": {
        "id": "vyvpiZc-QrOD"
      },
      "execution_count": null,
      "outputs": []
    },
    {
      "cell_type": "code",
      "source": [
        "import os\n",
        "\n",
        "def apagar_banco(nome_banco):\n",
        "\n",
        "  try:\n",
        "\n",
        "    if os.path.exists(nome_banco):\n",
        "      os.remove(nome_banco)\n",
        "      return True\n",
        "    else:\n",
        "      print(f\"Arquivo '{nome_banco}' não encontrado.\")\n",
        "      return False\n",
        "\n",
        "  except Exception as e:\n",
        "\n",
        "    print(f\"Erro ao apagar o banco: {e}\")\n",
        "    return False"
      ],
      "metadata": {
        "id": "KtW9vNhgXpZl"
      },
      "execution_count": null,
      "outputs": []
    },
    {
      "cell_type": "markdown",
      "source": [
        "## Uso das Funções Básicas"
      ],
      "metadata": {
        "id": "GavQUSXNF7zN"
      }
    },
    {
      "cell_type": "code",
      "source": [
        "# Criando a Base de Dados\n",
        "\n",
        "nome_do_bd = \"minhabase.db\"\n",
        "\n",
        "if criar_banco(nome_do_bd):\n",
        "    print(\"Banco criado com sucesso!\")\n",
        "else:\n",
        "    print(\"Falha na criação do banco.\")\n"
      ],
      "metadata": {
        "id": "-ZpUjT4HQ-Zd"
      },
      "execution_count": null,
      "outputs": []
    },
    {
      "cell_type": "code",
      "source": [
        "# Criando a Tabela\n",
        "\n",
        "sql = \"\"\"\n",
        "  CREATE TABLE IF NOT EXISTS Pessoa (\n",
        "    Id INTEGER PRIMARY KEY AUTOINCREMENT,\n",
        "    Nome TEXT NOT NULL,\n",
        "    DataNascimento TEXT\n",
        "  );\n",
        "\"\"\"\n",
        "if executar_sql(nome_do_bd,sql):\n",
        "    print(\"Comando executado com sucesso!\")\n",
        "else:\n",
        "    print(\"Falha ao executar comando SQL.\")"
      ],
      "metadata": {
        "id": "SRik6Ph8RYJ8"
      },
      "execution_count": null,
      "outputs": []
    },
    {
      "cell_type": "code",
      "source": [
        "# Inserindo um Registro\n",
        "\n",
        "sql = \"\"\"\n",
        "  INSERT INTO Pessoa (Nome, DataNascimento) VALUES ('João Silva', '1990-05-12');\n",
        "\"\"\"\n",
        "\n",
        "if executar_sql(nome_do_bd, sql):\n",
        "    print(\"Comando executado com sucesso!\")\n",
        "else:\n",
        "    print(\"Falha ao executar comando SQL.\")"
      ],
      "metadata": {
        "id": "cfBXK457R-Ds"
      },
      "execution_count": null,
      "outputs": []
    },
    {
      "cell_type": "code",
      "source": [
        "# Consultando o Banco de Dados\n",
        "\n",
        "sql = \"SELECT * FROM Pessoa\"\n",
        "\n",
        "df_resultado = select_sql(nome_do_bd, sql)\n",
        "print(df_resultado)"
      ],
      "metadata": {
        "id": "BqrNMiorTYQu"
      },
      "execution_count": null,
      "outputs": []
    },
    {
      "cell_type": "code",
      "source": [
        "# Consultando o Banco de Dados\n",
        "\n",
        "sql = \"SELECT * FROM Pessoa\"\n",
        "\n",
        "df_resultado = select_sql(nome_do_bd, sql)\n",
        "df_resultado"
      ],
      "metadata": {
        "id": "imxkhYQ_VgR7"
      },
      "execution_count": null,
      "outputs": []
    },
    {
      "cell_type": "code",
      "source": [
        "# Apagando todos os Registros\n",
        "\n",
        "sql = \"delete from Pessoa\"\n",
        "\n",
        "if executar_sql(nome_do_bd, sql):\n",
        "    print(\"Comando executado com sucesso!\")\n",
        "else:\n",
        "    print(\"Falha ao executar comando SQL.\")"
      ],
      "metadata": {
        "id": "cPAq9i7YT9Ku"
      },
      "execution_count": null,
      "outputs": []
    },
    {
      "cell_type": "code",
      "source": [
        "# Apagando a tabela\n",
        "\n",
        "sql = \"drop table Pessoa\"\n",
        "\n",
        "if executar_sql(nome_do_bd, sql):\n",
        "    print(\"Comando executado com sucesso!\")\n",
        "else:\n",
        "    print(\"Falha ao executar comando SQL.\")"
      ],
      "metadata": {
        "id": "Tw-_wk9SUUeV"
      },
      "execution_count": null,
      "outputs": []
    },
    {
      "cell_type": "code",
      "source": [
        "# Apagar o arquivo de Banco de Dados\n",
        "\n",
        "apagar_banco(nome_do_bd)"
      ],
      "metadata": {
        "id": "AWitA-LjXVfh"
      },
      "execution_count": null,
      "outputs": []
    },
    {
      "cell_type": "markdown",
      "source": [
        "## Criando Tabelas"
      ],
      "metadata": {
        "id": "Svi2qpvsS7gA"
      }
    },
    {
      "cell_type": "code",
      "source": [
        "def CreateTB (nome_do_bd, sql):\n",
        "\n",
        "  if criar_banco(nome_do_bd):\n",
        "    print(\"Banco criado com sucesso!\")\n",
        "\n",
        "    if executar_sql(nome_do_bd,sql):\n",
        "      print(\"Comando executado com sucesso!\")\n",
        "    else:\n",
        "      print(\"Falha ao executar comando SQL.\")\n",
        "\n",
        "  else:\n",
        "    print(\"Falha na criação do banco.\")"
      ],
      "metadata": {
        "id": "xW9a5leTS_vX"
      },
      "execution_count": null,
      "outputs": []
    },
    {
      "cell_type": "code",
      "source": [
        "# PRIMARY KEY\n",
        "# Garante que o valor seja único e não nulo na coluna.\n",
        "\n",
        "nome_do_bd = \"minhabase.db\"\n",
        "sql = '''\n",
        "CREATE TABLE usuarios (\n",
        "    id INTEGER PRIMARY KEY,\n",
        "    nome TEXT\n",
        ");\n",
        "'''\n",
        "CreateTB(nome_do_bd, sql)"
      ],
      "metadata": {
        "id": "pe7wqPo0Tmx_"
      },
      "execution_count": null,
      "outputs": []
    },
    {
      "cell_type": "code",
      "source": [
        "# Listando as tabelas do banco de dados\n",
        "\n",
        "nome_do_bd = \"minhabase.db\"\n",
        "sql = '''\n",
        "SELECT name\n",
        "FROM sqlite_master\n",
        "WHERE type = 'table';\n",
        "'''\n",
        "select_sql(nome_do_bd, sql)"
      ],
      "metadata": {
        "id": "MhtWJAj9UhPg"
      },
      "execution_count": null,
      "outputs": []
    },
    {
      "cell_type": "code",
      "source": [
        "# inserindo e consultando os dados\n",
        "\n",
        "nome_do_bd = \"minhabase.db\"\n",
        "\n",
        "sql = '''\n",
        "INSERT INTO usuarios (nome) VALUES ('João');\n",
        "'''\n",
        "executar_sql(nome_do_bd, sql)\n",
        "\n",
        "sql = '''\n",
        "SELECT * FROM usuarios;\n",
        "'''\n",
        "select_sql(nome_do_bd, sql)"
      ],
      "metadata": {
        "id": "-KixKRsAIquF"
      },
      "execution_count": null,
      "outputs": []
    },
    {
      "cell_type": "code",
      "source": [
        "# NOT NULL\n",
        "# Não permite valores nulos.\n",
        "\n",
        "nome_do_bd = \"minhabase.db\"\n",
        "sql = '''\n",
        "CREATE TABLE clientes (\n",
        "    id INTEGER PRIMARY KEY,\n",
        "    nome TEXT NOT NULL\n",
        ");\n",
        "'''\n",
        "CreateTB(nome_do_bd, sql)"
      ],
      "metadata": {
        "id": "IV7DPMqjUTUG"
      },
      "execution_count": null,
      "outputs": []
    },
    {
      "cell_type": "code",
      "source": [
        "# inserindo e consultando os dados\n",
        "\n",
        "nome_do_bd = \"minhabase.db\"\n",
        "\n",
        "sql = '''\n",
        "INSERT INTO clientes (nome) VALUES (Null);\n",
        "'''\n",
        "executar_sql(nome_do_bd, sql)\n",
        "\n",
        "sql = '''\n",
        "SELECT * FROM clientes;\n",
        "'''\n",
        "select_sql(nome_do_bd, sql)"
      ],
      "metadata": {
        "id": "UK0obtiGUiNk"
      },
      "execution_count": null,
      "outputs": []
    },
    {
      "cell_type": "code",
      "source": [
        "# UNIQUE\n",
        "# Garante que o valor seja único em todas as linhas.\n",
        "\n",
        "nome_do_bd = \"minhabase.db\"\n",
        "sql = '''\n",
        "CREATE TABLE produtos (\n",
        "    id INTEGER PRIMARY KEY,\n",
        "    codigo TEXT UNIQUE,\n",
        "    nome TEXT\n",
        ");\n",
        "'''\n",
        "CreateTB(nome_do_bd, sql)"
      ],
      "metadata": {
        "id": "IS-ISidkUj6u"
      },
      "execution_count": null,
      "outputs": []
    },
    {
      "cell_type": "code",
      "source": [
        "nome_do_bd = \"minhabase.db\"\n",
        "\n",
        "sql = '''\n",
        "INSERT INTO produtos (codigo, nome) VALUES (1, \"Coxinha\");\n",
        "'''\n",
        "executar_sql(nome_do_bd, sql)\n",
        "\n",
        "sql = '''\n",
        "SELECT * FROM produtos;\n",
        "'''\n",
        "select_sql(nome_do_bd, sql)"
      ],
      "metadata": {
        "id": "YDrSORDfUsp2"
      },
      "execution_count": null,
      "outputs": []
    },
    {
      "cell_type": "code",
      "source": [
        "# CHECK\n",
        "# Verifica uma condição antes de aceitar o valor.\n",
        "\n",
        "nome_do_bd = \"minhabase.db\"\n",
        "sql = '''\n",
        "CREATE TABLE pedidos (\n",
        "    id INTEGER PRIMARY KEY,\n",
        "    quantidade INTEGER CHECK(quantidade > 0),\n",
        "    status TEXT CHECK(status IN ('Pendente', 'Pago', 'Cancelado'))\n",
        ");\n",
        "'''\n",
        "CreateTB(nome_do_bd, sql)"
      ],
      "metadata": {
        "id": "lXcZ9_tHUtYS"
      },
      "execution_count": null,
      "outputs": []
    },
    {
      "cell_type": "code",
      "source": [
        "nome_do_bd = \"minhabase.db\"\n",
        "\n",
        "sql = '''\n",
        "INSERT INTO pedidos (quantidade, status) VALUES (10, \"Pago\");\n",
        "'''\n",
        "executar_sql(nome_do_bd, sql)\n",
        "\n",
        "sql = '''\n",
        "SELECT * FROM pedidos;\n",
        "'''\n",
        "select_sql(nome_do_bd, sql)"
      ],
      "metadata": {
        "id": "tXbtvetpU64K"
      },
      "execution_count": null,
      "outputs": []
    },
    {
      "cell_type": "code",
      "source": [
        "# DEFAULT\n",
        "# Define um valor padrão quando nenhum valor é informado.\n",
        "\n",
        "nome_do_bd = \"minhabase.db\"\n",
        "sql = '''\n",
        "CREATE TABLE mensagens (\n",
        "    id INTEGER PRIMARY KEY,\n",
        "    texto TEXT,\n",
        "    data_criacao TEXT DEFAULT (datetime('now'))\n",
        ");\n",
        "'''\n",
        "CreateTB(nome_do_bd, sql)"
      ],
      "metadata": {
        "id": "-hoegAppU7FS"
      },
      "execution_count": null,
      "outputs": []
    },
    {
      "cell_type": "code",
      "source": [
        "nome_do_bd = \"minhabase.db\"\n",
        "\n",
        "sql = '''\n",
        "INSERT INTO mensagens (texto) VALUES (\"Boa noite!!!\");\n",
        "'''\n",
        "executar_sql(nome_do_bd, sql)\n",
        "\n",
        "sql = '''\n",
        "SELECT * FROM mensagens;\n",
        "'''\n",
        "select_sql(nome_do_bd, sql)"
      ],
      "metadata": {
        "id": "mYT-tg3EVLQY"
      },
      "execution_count": null,
      "outputs": []
    },
    {
      "cell_type": "code",
      "source": [
        "# FOREIGN KEY\n",
        "# Garante integridade referencial entre tabelas.\n",
        "\n",
        "nome_do_bd = \"minhabase.db\"\n",
        "\n",
        "sql = '''\n",
        "PRAGMA foreign_keys = ON; -- Ativar chave estrangeira no SQLite\n",
        "'''\n",
        "executar_sql(nome_do_bd, sql)\n",
        "\n",
        "sql = '''\n",
        "drop table produtos;\n",
        "'''\n",
        "executar_sql(nome_do_bd, sql)\n",
        "\n",
        "sql = '''\n",
        "CREATE TABLE categorias (\n",
        "    id INTEGER PRIMARY KEY,\n",
        "    nome TEXT\n",
        ");\n",
        "'''\n",
        "CreateTB(nome_do_bd, sql)\n",
        "\n",
        "sql = '''\n",
        "CREATE TABLE produtos (\n",
        "    id INTEGER PRIMARY KEY,\n",
        "    nome TEXT,\n",
        "    categoria_id INTEGER,\n",
        "    FOREIGN KEY (categoria_id) REFERENCES categorias(id)\n",
        ");\n",
        "'''\n",
        "CreateTB(nome_do_bd, sql)"
      ],
      "metadata": {
        "id": "JG3S6pfnVLkp"
      },
      "execution_count": null,
      "outputs": []
    },
    {
      "cell_type": "code",
      "source": [
        "nome_do_bd = \"minhabase.db\"\n",
        "\n",
        "sql = '''\n",
        "INSERT INTO categorias (nome) VALUES (\"Informática\");\n",
        "'''\n",
        "executar_sql(nome_do_bd, sql)\n",
        "\n",
        "sql = '''\n",
        "INSERT INTO produtos (nome, categoria_id) VALUES (\"Notebook\", 1);\n",
        "'''\n",
        "executar_sql(nome_do_bd, sql)\n",
        "\n",
        "sql = '''\n",
        "SELECT * FROM produtos;\n",
        "'''\n",
        "select_sql(nome_do_bd, sql)"
      ],
      "metadata": {
        "id": "EIJdhl2jVbUD"
      },
      "execution_count": null,
      "outputs": []
    },
    {
      "cell_type": "markdown",
      "source": [
        "Resumo das constraints do SQLite:\n",
        "\n",
        "*   PRIMARY KEY → Identificador único.\n",
        "*   NOT NULL → Impede valores nulos.\n",
        "*   UNIQUE → Impede valores duplicados.\n",
        "*   CHECK → Valida condições.\n",
        "*   DEFAULT → Define valor padrão.\n",
        "*   FOREIGN KEY → Liga tabelas mantendo integridade."
      ],
      "metadata": {
        "id": "2cn5P3PnVbmM"
      }
    },
    {
      "cell_type": "markdown",
      "source": [
        "## Tipos de Constraint"
      ],
      "metadata": {
        "id": "BG6NVLeGVzW1"
      }
    },
    {
      "cell_type": "code",
      "source": [
        "# Alternativa sem regex\n",
        "# Se você não quiser criar funções externas, é possível usar funções nativas (LIKE, GLOB, SUBSTR) para validações simples, por exemplo:\n",
        "\n",
        "nome_do_bd = \"minhabase.db\"\n",
        "sql = '''\n",
        "CREATE TABLE telefones (\n",
        "    id INTEGER PRIMARY KEY,\n",
        "    numero TEXT CHECK(numero GLOB '[0-9][0-9][0-9]-[0-9][0-9][0-9]')\n",
        ");\n",
        "\n",
        "CREATE TABLE emails (\n",
        "    id INTEGER PRIMARY KEY,\n",
        "    endereco TEXT NOT NULL CHECK(endereco GLOB '*@*.*')\n",
        ");\n",
        "\n",
        "CREATE TABLE ceps (\n",
        "    id INTEGER PRIMARY KEY,\n",
        "    cep TEXT NOT NULL CHECK(cep GLOB '[0-9][0-9][0-9][0-9][0-9]-[0-9][0-9][0-9]')\n",
        ");\n",
        "'''\n",
        "CreateTB(nome_do_bd, sql)"
      ],
      "metadata": {
        "id": "_TYnM7oOWAyH"
      },
      "execution_count": null,
      "outputs": []
    },
    {
      "cell_type": "code",
      "source": [
        "nome_do_bd = \"minhabase.db\"\n",
        "\n",
        "sql = '''\n",
        "INSERT INTO telefones (numero) VALUES (\"123-123\");\n",
        "'''\n",
        "executar_sql(nome_do_bd, sql)\n",
        "\n",
        "sql = '''\n",
        "SELECT * FROM telefones;\n",
        "'''\n",
        "select_sql(nome_do_bd, sql)"
      ],
      "metadata": {
        "id": "0NpQuNHkPqtT"
      },
      "execution_count": null,
      "outputs": []
    },
    {
      "cell_type": "markdown",
      "source": [
        "Limitações do GLOB:\n",
        "\n",
        "\n",
        "*   Não suporta quantificadores complexos como {1,3}, +, ?, |.\n",
        "*   É case sensitive por padrão (para ignorar maiúsculas/minúsculas, use COLLATE NOCASE).\n",
        "*   Só funciona para padrões simples, mas é suficiente para formatos fixos.\n"
      ],
      "metadata": {
        "id": "IvuLe3LPXB4_"
      }
    },
    {
      "cell_type": "code",
      "source": [
        "# Chaves Primárias\n",
        "# Simples ou Composta\n",
        "\n",
        "nome_do_bd = \"minhabase.db\"\n",
        "sql = '''\n",
        "CREATE TABLE clientes (\n",
        "    id INTEGER PRIMARY KEY,  -- PK simples\n",
        "    nome TEXT NOT NULL\n",
        ");\n",
        "\n",
        "\n",
        "CREATE TABLE matriculas (\n",
        "    id_aluno INTEGER,\n",
        "    id_curso INTEGER,\n",
        "    data_matricula TEXT,\n",
        "    PRIMARY KEY (id_aluno, id_curso) -- PK composta\n",
        ");\n",
        "'''\n",
        "CreateTB(nome_do_bd, sql)"
      ],
      "metadata": {
        "id": "5eTqEKUiWeQQ"
      },
      "execution_count": null,
      "outputs": []
    },
    {
      "cell_type": "code",
      "source": [],
      "metadata": {
        "id": "FlupLUAgWevb"
      },
      "execution_count": null,
      "outputs": []
    },
    {
      "cell_type": "code",
      "source": [
        "# Chaves Extrangeira\n",
        "# Simples ou Composta\n",
        "\n",
        "nome_do_bd = \"minhabase.db\"\n",
        "sql = '''\n",
        "\n",
        "PRAGMA foreign_keys = ON;\n",
        "\n",
        "CREATE TABLE categorias (\n",
        "    id INTEGER PRIMARY KEY,\n",
        "    nome TEXT NOT NULL\n",
        ");\n",
        "\n",
        "CREATE TABLE produtos (\n",
        "    id INTEGER PRIMARY KEY,\n",
        "    nome TEXT NOT NULL,\n",
        "    categoria_id INTEGER,\n",
        "    FOREIGN KEY (categoria_id) REFERENCES categorias(id)\n",
        ");\n",
        "'''\n",
        "CreateTB(nome_do_bd, sql)"
      ],
      "metadata": {
        "id": "-ah6Af_QXpnK"
      },
      "execution_count": null,
      "outputs": []
    },
    {
      "cell_type": "code",
      "source": [],
      "metadata": {
        "id": "7HpuyfI5X7de"
      },
      "execution_count": null,
      "outputs": []
    },
    {
      "cell_type": "code",
      "source": [
        "# Chaves Extrangeira\n",
        "# Simples ou Composta\n",
        "\n",
        "nome_do_bd = \"minhabase.db\"\n",
        "sql = '''\n",
        "\n",
        "PRAGMA foreign_keys = ON;\n",
        "\n",
        "CREATE TABLE categorias (\n",
        "    id INTEGER PRIMARY KEY,\n",
        "    nome TEXT NOT NULL\n",
        ");\n",
        "\n",
        "\n",
        "CREATE TABLE produtos (\n",
        "    id INTEGER PRIMARY KEY,\n",
        "    nome TEXT NOT NULL,\n",
        "    categoria_id INTEGER,\n",
        "    FOREIGN KEY (categoria_id) REFERENCES categorias(id)\n",
        "        ON DELETE CASCADE   -- Se apagar a categoria, apaga os produtos\n",
        "        ON UPDATE CASCADE   -- Se atualizar o id da categoria, atualiza nos produtos\n",
        ");\n",
        "'''\n",
        "CreateTB(nome_do_bd, sql)"
      ],
      "metadata": {
        "id": "U9rNELFEX7tN"
      },
      "execution_count": null,
      "outputs": []
    },
    {
      "cell_type": "code",
      "source": [],
      "metadata": {
        "id": "fDlafPlAYSbe"
      },
      "execution_count": null,
      "outputs": []
    },
    {
      "cell_type": "code",
      "source": [
        "# Cada vez que você insere uma nova linha sem informar id, o SQLite gera automaticamente um valor único crescente.\n",
        "# Isso é suficiente para a maioria dos casos.\n",
        "\n",
        "nome_do_bd = \"minhabase.db\"\n",
        "sql = '''\n",
        "\n",
        "CREATE TABLE clientes (\n",
        "    id INTEGER PRIMARY KEY,  -- auto incremento implícito\n",
        "    nome TEXT NOT NULL\n",
        ");\n",
        "\n",
        "'''\n",
        "CreateTB(nome_do_bd, sql)"
      ],
      "metadata": {
        "id": "gxc_lZCqYSt1"
      },
      "execution_count": null,
      "outputs": []
    },
    {
      "cell_type": "code",
      "source": [],
      "metadata": {
        "id": "yx_X_8GHYjwS"
      },
      "execution_count": null,
      "outputs": []
    },
    {
      "cell_type": "code",
      "source": [
        "# Sem AUTOINCREMENT, o SQLite pode reutilizar valores de id de linhas deletadas.\n",
        "# Com AUTOINCREMENT, o próximo valor sempre será maior do que qualquer id já usado.\n",
        "\n",
        "nome_do_bd = \"minhabase.db\"\n",
        "sql = '''\n",
        "\n",
        "CREATE TABLE produtos (\n",
        "    id INTEGER PRIMARY KEY AUTOINCREMENT,  -- garante nunca reutilizar ids\n",
        "    nome TEXT NOT NULL\n",
        ");\n",
        "'''\n",
        "CreateTB(nome_do_bd, sql)"
      ],
      "metadata": {
        "id": "j1i9__beYj9y"
      },
      "execution_count": null,
      "outputs": []
    },
    {
      "cell_type": "code",
      "source": [],
      "metadata": {
        "id": "ENS-U_xiYzVA"
      },
      "execution_count": null,
      "outputs": []
    },
    {
      "cell_type": "markdown",
      "source": [
        "Resumo\n",
        "\n",
        "Tipo\tComportamento\n",
        "\n",
        "  INTEGER PRIMARY KEY\tAuto incremento automático (reutiliza ids de linhas deletadas)\n",
        "\n",
        "  INTEGER PRIMARY KEY AUTOINCREMENT\tAuto incremento sem reutilizar ids, sempre crescente"
      ],
      "metadata": {
        "id": "G1xDIBA-Yym5"
      }
    },
    {
      "cell_type": "code",
      "source": [],
      "metadata": {
        "id": "GOXAgYBJY5PJ"
      },
      "execution_count": null,
      "outputs": []
    },
    {
      "cell_type": "markdown",
      "source": [
        "## Tipos de Dados no SQLite"
      ],
      "metadata": {
        "id": "Pc8b0ii8ZpL8"
      }
    },
    {
      "cell_type": "markdown",
      "source": [
        "![tipos.png](data:image/png;base64,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)"
      ],
      "metadata": {
        "id": "D5mxQEGKZutM"
      }
    },
    {
      "cell_type": "markdown",
      "source": [
        "Como o SQLite trata os tipos\n",
        "\n",
        "  SQLite não força que um valor seja de um tipo específico.\n",
        "\n",
        "  Ele tenta converter valores para a afinidade da coluna quando possível."
      ],
      "metadata": {
        "id": "JQ5tm28Mabt1"
      }
    },
    {
      "cell_type": "code",
      "source": [
        "sql = '''\n",
        "CREATE TABLE exemplo (\n",
        "    texto TEXT,\n",
        "    numero INTEGER,\n",
        "    decimal REAL\n",
        ");\n",
        "\n",
        "INSERT INTO exemplo (texto, numero, decimal) VALUES ('123', '456', '7.89');\n",
        "\n",
        "SELECT * FROM exemplo;\n",
        "\n",
        "'''"
      ],
      "metadata": {
        "id": "kVESUH1MY5UN"
      },
      "execution_count": null,
      "outputs": []
    },
    {
      "cell_type": "markdown",
      "source": [
        "**Tipos especiais reconhecidos**\n",
        "\n",
        "Além das 5 afinidades, você pode usar tipos como:\n",
        "\n",
        "  BOOLEAN → tratado como NUMERIC (0 ou 1)\n",
        "\n",
        "  DATE / DATETIME → tratado como NUMERIC ou TEXT (depende do formato)\n",
        "\n",
        "  CHAR(n) / VARCHAR(n) → tratado como TEXT, tamanho não é imposto\n",
        "\n",
        "**Resumo**\n",
        "\n",
        "  SQLite não tem restrição rígida de tipo; é mais flexível que MySQL ou PostgreSQL.\n",
        "\n",
        "  Coluna INTEGER PRIMARY KEY é especial: atua como rowid e pode auto incrementar.\n",
        "\n",
        "  TEXT, NUMERIC, INTEGER, REAL, BLOB são as cinco afinidades principais que cobrem todos os tipos comuns."
      ],
      "metadata": {
        "id": "I_vj8Ha6av35"
      }
    },
    {
      "cell_type": "code",
      "source": [
        "# Como o SQLite trata os tipos\n",
        "# SQLite não força que um valor seja de um tipo específico.\n",
        "# Ele tenta converter valores para a afinidade da coluna quando possível.\n",
        "\n",
        "sql = '''\n",
        "CREATE TABLE exemplo (\n",
        "    texto TEXT,\n",
        "    numero INTEGER,\n",
        "    decimal REAL\n",
        ");\n",
        "\n",
        "INSERT INTO exemplo (texto, numero, decimal) VALUES ('123', '456', '7.89');\n",
        "\n",
        "SELECT * FROM exemplo;\n",
        "'''"
      ],
      "metadata": {
        "id": "i8a5q8OZdjXb"
      },
      "execution_count": null,
      "outputs": []
    },
    {
      "cell_type": "markdown",
      "source": [
        "Tipos especiais reconhecidos\n",
        "\n",
        "Além das 5 afinidades, você pode usar tipos como:\n",
        "\n",
        "*   BOOLEAN → tratado como NUMERIC (0 ou 1)\n",
        "*   DATE / DATETIME → tratado como NUMERIC ou TEXT (depende do formato)\n",
        "*   CHAR(n) / VARCHAR(n) → tratado como TEXT, tamanho não é imposto\n"
      ],
      "metadata": {
        "id": "xlJpfo52d4sx"
      }
    },
    {
      "cell_type": "markdown",
      "source": [
        "Resumo\n",
        "\n",
        "*   SQLite não tem restrição rígida de tipo; é mais flexível que MySQL ou PostgreSQL.\n",
        "*   Coluna INTEGER PRIMARY KEY é especial: atua como rowid e pode auto incrementar.\n",
        "*   TEXT, NUMERIC, INTEGER, REAL, BLOB são as cinco afinidades principais que cobrem todos os tipos comuns."
      ],
      "metadata": {
        "id": "HmId9EC_eJDv"
      }
    },
    {
      "cell_type": "code",
      "source": [
        "# Qual a diferença entre os tipos TEXT, CHAR e VARCHAR"
      ],
      "metadata": {
        "id": "SzVfAO2Qa7bM"
      },
      "execution_count": null,
      "outputs": []
    },
    {
      "cell_type": "markdown",
      "source": [
        "TEXT\n",
        "\n",
        "  Armazena cadeias de caracteres de tamanho variável.\n",
        "\n",
        "  Não tem limite de tamanho (exceto o limite máximo do SQLite, que é enorme ~2 GB por campo).\n",
        "\n",
        "  Ideal quando você não quer se preocupar com tamanho específico."
      ],
      "metadata": {
        "id": "jb1VwxffejTK"
      }
    },
    {
      "cell_type": "markdown",
      "source": [
        "CHAR(n)\n",
        "\n",
        "  Destinado a armazenar cadeias de tamanho fixo.\n",
        "\n",
        "  Em outros bancos, sempre ocupa exatamente n caracteres, preenchendo com espaços à direita se necessário.\n",
        "\n",
        "  No SQLite, o tamanho n não é imposto; CHAR(n) é tratado como TEXT.\n",
        "  \n",
        "  Mesmo se você inserir 'AB', o SQLite armazena 'AB' sem preencher com espaços."
      ],
      "metadata": {
        "id": "O4viJf74eq-g"
      }
    },
    {
      "cell_type": "markdown",
      "source": [
        "VARCHAR(n)\n",
        "\n",
        "  Destinado a armazenar cadeias de tamanho variável até n caracteres.\n",
        "\n",
        "  Em outros bancos, impede inserir strings maiores que n.\n",
        "\n",
        "  No SQLite, o tamanho n não é imposto, VARCHAR(n) também é tratado como TEXT.\n",
        "\n",
        "  Você pode inserir até ou mais que 50 caracteres; o SQLite aceita tudo."
      ],
      "metadata": {
        "id": "5RHZYYMhe3Lh"
      }
    },
    {
      "cell_type": "markdown",
      "source": [
        "![textcharvarchar.png](data:image/png;base64,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)"
      ],
      "metadata": {
        "id": "H-rPS6bBbglF"
      }
    },
    {
      "cell_type": "code",
      "source": [
        "# Qual a diferença entre NUMERIC, DECIMAL"
      ],
      "metadata": {
        "id": "NbNKgk-ubGNr"
      },
      "execution_count": null,
      "outputs": []
    },
    {
      "cell_type": "markdown",
      "source": [
        "NUMERIC\n",
        "\n",
        "Afinidade: NUMERIC\n",
        "\n",
        "Aceita valores inteiros, reais ou texto, tentando converter para número se possível.\n",
        "\n",
        "Usado quando você quer armazenar valores que podem ser inteiros ou decimais.\n",
        "\n",
        "Também pode ser usado para booleanos (0/1) e datas (dependendo do formato)."
      ],
      "metadata": {
        "id": "Izl1Ix2ZffWC"
      }
    },
    {
      "cell_type": "code",
      "source": [
        "sql = '''\n",
        "CREATE TABLE exemplo_numeric (\n",
        "    valor NUMERIC\n",
        ");\n",
        "\n",
        "INSERT INTO exemplo_numeric (valor) VALUES ('123');   -- armazenado como INTEGER\n",
        "INSERT INTO exemplo_numeric (valor) VALUES ('45.67'); -- armazenado como REAL\n",
        "\n",
        "'''"
      ],
      "metadata": {
        "id": "BsON_Pn5fg3X"
      },
      "execution_count": null,
      "outputs": []
    },
    {
      "cell_type": "markdown",
      "source": [
        "DECIMAL / NUMERIC(p,s)\n",
        "\n",
        "Afinidade: NUMERIC\n",
        "\n",
        "Conceito SQL padrão: número com precisão fixa\n",
        "\n",
        "p = total de dígitos\n",
        "\n",
        "s = dígitos após a vírgula\n",
        "\n",
        "No SQLite, o tamanho e a precisão não são aplicados; o tipo é tratado como NUMERIC.\n",
        "\n",
        "Serve mais como documentação sem efeito prático no SQLite."
      ],
      "metadata": {
        "id": "G-4TwLmVfqdC"
      }
    },
    {
      "cell_type": "code",
      "source": [
        "sql = '''\n",
        "CREATE TABLE exemplo_decimal (\n",
        "    preco DECIMAL(10,2)\n",
        ");\n",
        "\n",
        "INSERT INTO exemplo_decimal (preco) VALUES (123.45); -- armazenado como REAL\n",
        "INSERT INTO exemplo_decimal (preco) VALUES ('67.89'); -- convertido para REAL\n",
        "'''"
      ],
      "metadata": {
        "id": "N-6wLnNHfrvG"
      },
      "execution_count": null,
      "outputs": []
    },
    {
      "cell_type": "markdown",
      "source": [
        "![numericdecimal.png](data:image/png;base64,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)"
      ],
      "metadata": {
        "id": "ewjQjHD0bwHk"
      }
    },
    {
      "cell_type": "code",
      "source": [
        "# Qual a diferença entre os tipos INT, INTEGER, BIGINT"
      ],
      "metadata": {
        "id": "CvuQL5LTbN8Z"
      },
      "execution_count": null,
      "outputs": []
    },
    {
      "cell_type": "markdown",
      "source": [
        "INT\n",
        "\n",
        "Sinônimo de INTEGER na maioria dos bancos de dados SQL.\n",
        "\n",
        "No SQLite, INT é tratado com afinidade INTEGER, exatamente como INTEGER.\n",
        "\n",
        "É mais usado por convenção ou compatibilidade com outros bancos."
      ],
      "metadata": {
        "id": "lOZLVo_Df8ke"
      }
    },
    {
      "cell_type": "markdown",
      "source": [
        "INTEGER\n",
        "\n",
        "Afinidade: INTEGER\n",
        "\n",
        "Usado para armazenar valores inteiros de qualquer tamanho.\n",
        "\n",
        "No SQLite, se a coluna for INTEGER PRIMARY KEY, ela funciona como rowid auto-incremento.\n",
        "\n",
        "Aceita valores pequenos ou grandes (até 8 bytes, ou ±9 quintilhões aproximadamente)."
      ],
      "metadata": {
        "id": "F6CjMHngfhjC"
      }
    },
    {
      "cell_type": "markdown",
      "source": [
        "BIGINT\n",
        "\n",
        "Conceito SQL padrão: inteiro de 64 bits, para valores muito grandes.\n",
        "\n",
        "No SQLite, BIGINT também é tratado como INTEGER.\n",
        "\n",
        "Não há diferença prática entre INTEGER e BIGINT no SQLite."
      ],
      "metadata": {
        "id": "tov-J8LVgDPn"
      }
    },
    {
      "cell_type": "markdown",
      "source": [
        "![integerintbigint.png](data:image/png;base64,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)"
      ],
      "metadata": {
        "id": "LgtU3v7gbwOH"
      }
    },
    {
      "cell_type": "code",
      "source": [
        "# Qual a diferença entre os tipos REAL, DOUBLE, FLOAT"
      ],
      "metadata": {
        "id": "0ZckqI9VbTXy"
      },
      "execution_count": null,
      "outputs": []
    },
    {
      "cell_type": "markdown",
      "source": [
        "REAL\n",
        "\n",
        "Afinidade: REAL\n",
        "\n",
        "Armazena números de ponto flutuante de precisão dupla (8 bytes, equivalente a double em C).\n",
        "\n",
        "Ideal para cálculos com decimais e valores que não precisam de precisão fixa."
      ],
      "metadata": {
        "id": "0xbbZRQlgM8U"
      }
    },
    {
      "cell_type": "markdown",
      "source": [
        "DOUBLE / DOUBLE PRECISION\n",
        "\n",
        "Conceito SQL: número de ponto flutuante de precisão dupla (8 bytes).\n",
        "\n",
        "No SQLite, DOUBLE é tratado como REAL, sem diferença prática."
      ],
      "metadata": {
        "id": "_YELFWUOgRgs"
      }
    },
    {
      "cell_type": "markdown",
      "source": [
        "FLOAT\n",
        "\n",
        "Conceito SQL padrão: número de ponto flutuante de precisão simples (4 bytes).\n",
        "\n",
        "No SQLite, FLOAT também é tratado como REAL (8 bytes).\n",
        "\n",
        "Ou seja, não há armazenamento de precisão simples — tudo é convertido para REAL de precisão dupla."
      ],
      "metadata": {
        "id": "Xn8nXr-ZgVBx"
      }
    },
    {
      "cell_type": "markdown",
      "source": [
        "![realdoublefloat.png](data:image/png;base64,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)"
      ],
      "metadata": {
        "id": "xN9M8MHrcR7q"
      }
    }
  ]
}